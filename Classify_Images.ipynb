{
  "nbformat": 4,
  "nbformat_minor": 0,
  "metadata": {
    "colab": {
      "provenance": [],
      "authorship_tag": "ABX9TyNWtC0EBYlJfB5TCdtTYPag"
    },
    "kernelspec": {
      "name": "python3",
      "display_name": "Python 3"
    },
    "language_info": {
      "name": "python"
    }
  },
  "cells": [
    {
      "cell_type": "code",
      "execution_count": null,
      "metadata": {
        "id": "ifkcXnx_haOq"
      },
      "outputs": [],
      "source": [
        "#Description : This program classifies images"
      ]
    },
    {
      "cell_type": "code",
      "source": [
        "#Import the libararies\n",
        "import tensorflow as tf\n",
        "from tensorflow import keras\n",
        "from keras.models import Sequential\n",
        "from keras.layers import Dense, Flatten, Conv2D, MaxPooling2D, Dropout\n",
        "from tensorflow.keras import layers\n",
        "from tensorflow.keras.utils import to_categorical\n",
        "import numpy as np\n",
        "import matplotlib.pyplot as plt\n",
        "plt.style.use('fivethirtyeight')"
      ],
      "metadata": {
        "id": "d1AFZ5dJdgyB"
      },
      "execution_count": 2,
      "outputs": []
    },
    {
      "cell_type": "code",
      "source": [
        "#Load the data\n",
        "from keras.datasets import cifar10\n",
        "(x_train, y_train), (x_test, y_test) = cifar10.load_data()"
      ],
      "metadata": {
        "id": "NDp-5vkJdz0k",
        "colab": {
          "base_uri": "https://localhost:8080/"
        },
        "outputId": "8745344e-3ab3-4cfe-e357-bc9f1cdd8e9e"
      },
      "execution_count": 3,
      "outputs": [
        {
          "output_type": "stream",
          "name": "stdout",
          "text": [
            "Downloading data from https://www.cs.toronto.edu/~kriz/cifar-10-python.tar.gz\n",
            "170498071/170498071 [==============================] - 2s 0us/step\n"
          ]
        }
      ]
    },
    {
      "cell_type": "code",
      "source": [
        "#Look at the data types of the variables\n",
        "print(type(x_train))\n",
        "print(type(y_train))\n",
        "print(type(x_test))\n",
        "print(type(y_test))"
      ],
      "metadata": {
        "id": "5HIZtTPpfOIM",
        "colab": {
          "base_uri": "https://localhost:8080/"
        },
        "outputId": "5d37459e-b4e9-4246-dfe4-d56ce4f6d5bd"
      },
      "execution_count": 4,
      "outputs": [
        {
          "output_type": "stream",
          "name": "stdout",
          "text": [
            "<class 'numpy.ndarray'>\n",
            "<class 'numpy.ndarray'>\n",
            "<class 'numpy.ndarray'>\n",
            "<class 'numpy.ndarray'>\n"
          ]
        }
      ]
    },
    {
      "cell_type": "code",
      "source": [
        "#Get the shape of the arrays\n",
        "print('x_train shape:', x_train.shape)\n",
        "print('y_train shape:', y_train.shape)\n",
        "print('x_test shape:', x_test.shape)\n",
        "print('y_test shape:', y_test.shape)"
      ],
      "metadata": {
        "id": "e2nv5toIfWrR",
        "colab": {
          "base_uri": "https://localhost:8080/"
        },
        "outputId": "0219b1bc-a921-4450-efc5-1191f149c514"
      },
      "execution_count": 5,
      "outputs": [
        {
          "output_type": "stream",
          "name": "stdout",
          "text": [
            "x_train shape: (50000, 32, 32, 3)\n",
            "y_train shape: (50000, 1)\n",
            "x_test shape: (10000, 32, 32, 3)\n",
            "y_test shape: (10000, 1)\n"
          ]
        }
      ]
    },
    {
      "cell_type": "code",
      "source": [
        "#Take a look at the first image as an array \n",
        "index=0\n",
        "x_train[index]"
      ],
      "metadata": {
        "id": "vBAKh77VfkiO",
        "colab": {
          "base_uri": "https://localhost:8080/"
        },
        "outputId": "6506b4d2-3a0f-4577-ff73-3f4079cbd59b"
      },
      "execution_count": 6,
      "outputs": [
        {
          "output_type": "execute_result",
          "data": {
            "text/plain": [
              "array([[[ 59,  62,  63],\n",
              "        [ 43,  46,  45],\n",
              "        [ 50,  48,  43],\n",
              "        ...,\n",
              "        [158, 132, 108],\n",
              "        [152, 125, 102],\n",
              "        [148, 124, 103]],\n",
              "\n",
              "       [[ 16,  20,  20],\n",
              "        [  0,   0,   0],\n",
              "        [ 18,   8,   0],\n",
              "        ...,\n",
              "        [123,  88,  55],\n",
              "        [119,  83,  50],\n",
              "        [122,  87,  57]],\n",
              "\n",
              "       [[ 25,  24,  21],\n",
              "        [ 16,   7,   0],\n",
              "        [ 49,  27,   8],\n",
              "        ...,\n",
              "        [118,  84,  50],\n",
              "        [120,  84,  50],\n",
              "        [109,  73,  42]],\n",
              "\n",
              "       ...,\n",
              "\n",
              "       [[208, 170,  96],\n",
              "        [201, 153,  34],\n",
              "        [198, 161,  26],\n",
              "        ...,\n",
              "        [160, 133,  70],\n",
              "        [ 56,  31,   7],\n",
              "        [ 53,  34,  20]],\n",
              "\n",
              "       [[180, 139,  96],\n",
              "        [173, 123,  42],\n",
              "        [186, 144,  30],\n",
              "        ...,\n",
              "        [184, 148,  94],\n",
              "        [ 97,  62,  34],\n",
              "        [ 83,  53,  34]],\n",
              "\n",
              "       [[177, 144, 116],\n",
              "        [168, 129,  94],\n",
              "        [179, 142,  87],\n",
              "        ...,\n",
              "        [216, 184, 140],\n",
              "        [151, 118,  84],\n",
              "        [123,  92,  72]]], dtype=uint8)"
            ]
          },
          "metadata": {},
          "execution_count": 6
        }
      ]
    },
    {
      "cell_type": "code",
      "source": [
        "#Show the image as a picture \n",
        "img=plt.imshow(x_train[index])"
      ],
      "metadata": {
        "id": "EOMdey-Qfuv4",
        "colab": {
          "base_uri": "https://localhost:8080/",
          "height": 451
        },
        "outputId": "4c2ba07f-ad78-4316-9a9b-36ffdcd79a5f"
      },
      "execution_count": 7,
      "outputs": [
        {
          "output_type": "display_data",
          "data": {
            "text/plain": [
              "<Figure size 640x480 with 1 Axes>"
            ],
            "image/png": "[encoded data removed]"
          },
          "metadata": {}
        }
      ]
    },
    {
      "cell_type": "code",
      "source": [
        "#Get the image label\n",
        "print('The image label is:', y_train[index])"
      ],
      "metadata": {
        "id": "2qobtErdfy_1",
        "colab": {
          "base_uri": "https://localhost:8080/"
        },
        "outputId": "8ed8bf9e-ae3c-4fd2-931b-39ef45c3545e"
      },
      "execution_count": 8,
      "outputs": [
        {
          "output_type": "stream",
          "name": "stdout",
          "text": [
            "The image label is: [6]\n"
          ]
        }
      ]
    },
    {
      "cell_type": "code",
      "source": [
        "#Get the image classfication \n",
        "classification=['airplane', 'automobile', 'bird', 'cat', 'deer', 'dog', 'frog', 'horse', 'ship', 'truck']\n",
        "#Print the image class\n",
        "print('The image class is:', classification[y_train[index][0]])"
      ],
      "metadata": {
        "id": "l3pZzv_Bf7E6",
        "colab": {
          "base_uri": "https://localhost:8080/"
        },
        "outputId": "db6df3c6-7be5-41f9-ae3f-08aa4a3c10f9"
      },
      "execution_count": 9,
      "outputs": [
        {
          "output_type": "stream",
          "name": "stdout",
          "text": [
            "The image class is: frog\n"
          ]
        }
      ]
    },
    {
      "cell_type": "code",
      "source": [
        "#Covert the labels into a set of 10 numbers to input into the neural network\n",
        "y_train_one_hot=to_categorical(y_train)\n",
        "y_test_one_hot=to_categorical(y_test)"
      ],
      "metadata": {
        "id": "bgPprktHgEdb"
      },
      "execution_count": 10,
      "outputs": []
    },
    {
      "cell_type": "code",
      "source": [
        "#Print the new labels \n",
        "print(y_train_one_hot)"
      ],
      "metadata": {
        "id": "OS2JguBrgP9n",
        "colab": {
          "base_uri": "https://localhost:8080/"
        },
        "outputId": "0ad38392-51cf-41d8-df10-ff2bfba86d6b"
      },
      "execution_count": 11,
      "outputs": [
        {
          "output_type": "stream",
          "name": "stdout",
          "text": [
            "[[0. 0. 0. ... 0. 0. 0.]\n",
            " [0. 0. 0. ... 0. 0. 1.]\n",
            " [0. 0. 0. ... 0. 0. 1.]\n",
            " ...\n",
            " [0. 0. 0. ... 0. 0. 1.]\n",
            " [0. 1. 0. ... 0. 0. 0.]\n",
            " [0. 1. 0. ... 0. 0. 0.]]\n"
          ]
        }
      ]
    },
    {
      "cell_type": "code",
      "source": [
        "#Print the new label of the image/picture above\n",
        "print('The one hot label is:', y_train_one_hot[index])"
      ],
      "metadata": {
        "id": "7Hp9QPSggoYr",
        "colab": {
          "base_uri": "https://localhost:8080/"
        },
        "outputId": "4c889634-5493-4ba6-a5b9-a623332e6582"
      },
      "execution_count": 12,
      "outputs": [
        {
          "output_type": "stream",
          "name": "stdout",
          "text": [
            "The one hot label is: [0. 0. 0. 0. 0. 0. 1. 0. 0. 0.]\n"
          ]
        }
      ]
    },
    {
      "cell_type": "code",
      "source": [
        "#Normalize the pixels to be values between 0 and 1\n",
        "x_train=x_train/255\n",
        "x_test=x_test/255"
      ],
      "metadata": {
        "id": "TuaXM8r5hBWb"
      },
      "execution_count": 13,
      "outputs": []
    },
    {
      "cell_type": "code",
      "source": [
        "x_train[index]"
      ],
      "metadata": {
        "id": "GHBVj6TGhIDO",
        "colab": {
          "base_uri": "https://localhost:8080/"
        },
        "outputId": "526bf2a1-8b64-4b74-a274-901491c76d6f"
      },
      "execution_count": 14,
      "outputs": [
        {
          "output_type": "execute_result",
          "data": {
            "text/plain": [
              "array([[[0.23137255, 0.24313725, 0.24705882],\n",
              "        [0.16862745, 0.18039216, 0.17647059],\n",
              "        [0.19607843, 0.18823529, 0.16862745],\n",
              "        ...,\n",
              "        [0.61960784, 0.51764706, 0.42352941],\n",
              "        [0.59607843, 0.49019608, 0.4       ],\n",
              "        [0.58039216, 0.48627451, 0.40392157]],\n",
              "\n",
              "       [[0.0627451 , 0.07843137, 0.07843137],\n",
              "        [0.        , 0.        , 0.        ],\n",
              "        [0.07058824, 0.03137255, 0.        ],\n",
              "        ...,\n",
              "        [0.48235294, 0.34509804, 0.21568627],\n",
              "        [0.46666667, 0.3254902 , 0.19607843],\n",
              "        [0.47843137, 0.34117647, 0.22352941]],\n",
              "\n",
              "       [[0.09803922, 0.09411765, 0.08235294],\n",
              "        [0.0627451 , 0.02745098, 0.        ],\n",
              "        [0.19215686, 0.10588235, 0.03137255],\n",
              "        ...,\n",
              "        [0.4627451 , 0.32941176, 0.19607843],\n",
              "        [0.47058824, 0.32941176, 0.19607843],\n",
              "        [0.42745098, 0.28627451, 0.16470588]],\n",
              "\n",
              "       ...,\n",
              "\n",
              "       [[0.81568627, 0.66666667, 0.37647059],\n",
              "        [0.78823529, 0.6       , 0.13333333],\n",
              "        [0.77647059, 0.63137255, 0.10196078],\n",
              "        ...,\n",
              "        [0.62745098, 0.52156863, 0.2745098 ],\n",
              "        [0.21960784, 0.12156863, 0.02745098],\n",
              "        [0.20784314, 0.13333333, 0.07843137]],\n",
              "\n",
              "       [[0.70588235, 0.54509804, 0.37647059],\n",
              "        [0.67843137, 0.48235294, 0.16470588],\n",
              "        [0.72941176, 0.56470588, 0.11764706],\n",
              "        ...,\n",
              "        [0.72156863, 0.58039216, 0.36862745],\n",
              "        [0.38039216, 0.24313725, 0.13333333],\n",
              "        [0.3254902 , 0.20784314, 0.13333333]],\n",
              "\n",
              "       [[0.69411765, 0.56470588, 0.45490196],\n",
              "        [0.65882353, 0.50588235, 0.36862745],\n",
              "        [0.70196078, 0.55686275, 0.34117647],\n",
              "        ...,\n",
              "        [0.84705882, 0.72156863, 0.54901961],\n",
              "        [0.59215686, 0.4627451 , 0.32941176],\n",
              "        [0.48235294, 0.36078431, 0.28235294]]])"
            ]
          },
          "metadata": {},
          "execution_count": 14
        }
      ]
    },
    {
      "cell_type": "code",
      "source": [
        "#Create the models architecture \n",
        "model=Sequential()\n",
        "#Add the first layer\n",
        "model.add(Conv2D(32, (5,5), activation='relu', input_shape=(32,32,3)))\n",
        "#Add a pooling layer\n",
        "model.add(MaxPooling2D(pool_size=(2,2)))\n",
        "#Add another convolution layer\n",
        "model.add(Conv2D(32, (5,5), activation='relu'))\n",
        "#Add another pooling layer\n",
        "model.add(MaxPooling2D(pool_size=(2,2)))\n",
        "#Add a flattening layer\n",
        "model.add(Flatten())\n",
        "#Add a layer with 1000 neutrons\n",
        "model.add(Dense(1000, activation='relu'))\n",
        "#Add a drop layer \n",
        "model.add(Dropout(0.5))\n",
        "#Add a layer with 500 neutrons\n",
        "model.add(Dense(500, activation='relu'))\n",
        "#Add a drop layer  \n",
        "model.add(Dropout(0.5))\n",
        "#Add a layer with 250 neutrons\n",
        "model.add(Dense(250, activation='relu'))\n",
        "#Add a layer with 10 neutrons\n",
        "model.add(Dense(10, activation='softmax'))"
      ],
      "metadata": {
        "id": "LZq1XZwdhLDr"
      },
      "execution_count": 15,
      "outputs": []
    },
    {
      "cell_type": "code",
      "source": [
        "#Compile the model\n",
        "model.compile(loss='categorical_crossentropy',\n",
        "              optimizer='adam',\n",
        "              metrics=['accuracy'])"
      ],
      "metadata": {
        "id": "Kv2PsgPg6IJB"
      },
      "execution_count": 16,
      "outputs": []
    },
    {
      "cell_type": "code",
      "source": [
        "#Train the model\n",
        "hist=model.fit(x_train, y_train_one_hot,\n",
        "          batch_size=256,\n",
        "          epochs=10,\n",
        "          validation_split=0.2)"
      ],
      "metadata": {
        "id": "HQog6RmZ6Szz",
        "colab": {
          "base_uri": "https://localhost:8080/"
        },
        "outputId": "9d85e62f-54aa-4091-d2ef-e2dd2f61435c"
      },
      "execution_count": 17,
      "outputs": [
        {
          "output_type": "stream",
          "name": "stdout",
          "text": [
            "Epoch 1/10\n",
            "157/157 [==============================] - 44s 273ms/step - loss: 1.8266 - accuracy: 0.3145 - val_loss: 1.5508 - val_accuracy: 0.4253\n",
            "Epoch 2/10\n",
            "157/157 [==============================] - 41s 260ms/step - loss: 1.4696 - accuracy: 0.4617 - val_loss: 1.3621 - val_accuracy: 0.5099\n",
            "Epoch 3/10\n",
            "157/157 [==============================] - 42s 265ms/step - loss: 1.3237 - accuracy: 0.5224 - val_loss: 1.2763 - val_accuracy: 0.5474\n",
            "Epoch 4/10\n",
            "157/157 [==============================] - 41s 259ms/step - loss: 1.2127 - accuracy: 0.5668 - val_loss: 1.1357 - val_accuracy: 0.5940\n",
            "Epoch 5/10\n",
            "157/157 [==============================] - 41s 260ms/step - loss: 1.1187 - accuracy: 0.6014 - val_loss: 1.0945 - val_accuracy: 0.6119\n",
            "Epoch 6/10\n",
            "157/157 [==============================] - 41s 263ms/step - loss: 1.0572 - accuracy: 0.6261 - val_loss: 1.0908 - val_accuracy: 0.6185\n",
            "Epoch 7/10\n",
            "157/157 [==============================] - 41s 260ms/step - loss: 0.9920 - accuracy: 0.6496 - val_loss: 1.0242 - val_accuracy: 0.6400\n",
            "Epoch 8/10\n",
            "157/157 [==============================] - 42s 266ms/step - loss: 0.9321 - accuracy: 0.6730 - val_loss: 1.0193 - val_accuracy: 0.6492\n",
            "Epoch 9/10\n",
            "157/157 [==============================] - 41s 260ms/step - loss: 0.8699 - accuracy: 0.6941 - val_loss: 0.9682 - val_accuracy: 0.6635\n",
            "Epoch 10/10\n",
            "157/157 [==============================] - 42s 266ms/step - loss: 0.8154 - accuracy: 0.7140 - val_loss: 0.9823 - val_accuracy: 0.6567\n"
          ]
        }
      ]
    },
    {
      "cell_type": "code",
      "source": [
        "#Evaluate the model using the test data set\n",
        "model.evaluate(x_test, y_test_one_hot)[1]"
      ],
      "metadata": {
        "id": "J5PZat3h6Yi5",
        "colab": {
          "base_uri": "https://localhost:8080/"
        },
        "outputId": "b8288652-ea8a-4021-a409-dd9265085de7"
      },
      "execution_count": 18,
      "outputs": [
        {
          "output_type": "stream",
          "name": "stdout",
          "text": [
            "313/313 [==============================] - 4s 13ms/step - loss: 0.9796 - accuracy: 0.6524\n"
          ]
        },
        {
          "output_type": "execute_result",
          "data": {
            "text/plain": [
              "0.652400016784668"
            ]
          },
          "metadata": {},
          "execution_count": 18
        }
      ]
    },
    {
      "cell_type": "code",
      "source": [
        "#Visualize the model's accuaracy\n",
        "plt.plot(hist.history['accuracy'])\n",
        "plt.plot(hist.history['val_accuracy'])\n",
        "plt.title('Model Accuracy')\n",
        "plt.ylabel('Accuracy')\n",
        "plt.xlabel('Epoch')\n",
        "plt.legend(['Train', 'Val'], loc='upper right')\n",
        "plt.show()"
      ],
      "metadata": {
        "id": "4qJ_QGUS6qyb",
        "colab": {
          "base_uri": "https://localhost:8080/",
          "height": 508
        },
        "outputId": "a9fc8913-258f-4b53-ef1d-3819e77eaf30"
      },
      "execution_count": 19,
      "outputs": [
        {
          "output_type": "display_data",
          "data": {
            "text/plain": [
              "<Figure size 640x480 with 1 Axes>"
            ],
            "image/png": "[encoded data removed]"
          },
          "metadata": {}
        }
      ]
    },
    {
      "cell_type": "code",
      "source": [
        "#Visualize the model's loss\n",
        "plt.plot(hist.history['loss'])\n",
        "plt.plot(hist.history['val_loss'])\n",
        "plt.title('Model Loss')\n",
        "plt.ylabel('Loss')\n",
        "plt.xlabel('Epoch')\n",
        "plt.legend(['Train', 'Val'], loc='upper right')\n",
        "plt.show()"
      ],
      "metadata": {
        "id": "k7SCk39O7UoL",
        "colab": {
          "base_uri": "https://localhost:8080/",
          "height": 508
        },
        "outputId": "104c3933-48b2-4deb-9ed0-60d5521b6252"
      },
      "execution_count": 20,
      "outputs": [
        {
          "output_type": "display_data",
          "data": {
            "text/plain": [
              "<Figure size 640x480 with 1 Axes>"
            ],
            "image/png": "[encoded data removed]"
          },
          "metadata": {}
        }
      ]
    },
    {
      "cell_type": "code",
      "source": [
        "#Test the model with an example\n",
        "from google.colab import files\n",
        "uploaded=files.upload()"
      ],
      "metadata": {
        "id": "6d1Oq5qH7egQ",
        "colab": {
          "base_uri": "https://localhost:8080/",
          "height": 73
        },
        "outputId": "2dabd5f3-cc32-4848-839e-eb4772998607"
      },
      "execution_count": 26,
      "outputs": [
        {
          "output_type": "display_data",
          "data": {
            "text/plain": [
              "<IPython.core.display.HTML object>"
            ],
            "text/html": [
              "\n",
              "     <input type=\"file\" id=\"files-0f41aecd-e92b-464e-8143-be86da6f9dae\" name=\"files[]\" multiple disabled\n",
              "        style=\"border:none\" />\n",
              "     <output id=\"result-0f41aecd-e92b-464e-8143-be86da6f9dae\">\n",
              "      Upload widget is only available when the cell has been executed in the\n",
              "      current browser session. Please rerun this cell to enable.\n",
              "      </output>\n",
              "      <script>// Copyright 2017 Google LLC\n",
              "//\n",
              "// Licensed under the Apache License, Version 2.0 (the \"License\");\n",
              "// you may not use this file except in compliance with the License.\n",
              "// You may obtain a copy of the License at\n",
              "//\n",
              "//      http://www.apache.org/licenses/LICENSE-2.0\n",
              "//\n",
              "// Unless required by applicable law or agreed to in writing, software\n",
              "// distributed under the License is distributed on an \"AS IS\" BASIS,\n",
              "// WITHOUT WARRANTIES OR CONDITIONS OF ANY KIND, either express or implied.\n",
              "// See the License for the specific language governing permissions and\n",
              "// limitations under the License.\n",
              "\n",
              "/**\n",
              " * @fileoverview Helpers for google.colab Python module.\n",
              " */\n",
              "(function(scope) {\n",
              "function span(text, styleAttributes = {}) {\n",
              "  const element = document.createElement('span');\n",
              "  element.textContent = text;\n",
              "  for (const key of Object.keys(styleAttributes)) {\n",
              "    element.style[key] = styleAttributes[key];\n",
              "  }\n",
              "  return element;\n",
              "}\n",
              "\n",
              "// Max number of bytes which will be uploaded at a time.\n",
              "const MAX_PAYLOAD_SIZE = 100 * 1024;\n",
              "\n",
              "function _uploadFiles(inputId, outputId) {\n",
              "  const steps = uploadFilesStep(inputId, outputId);\n",
              "  const outputElement = document.getElementById(outputId);\n",
              "  // Cache steps on the outputElement to make it available for the next call\n",
              "  // to uploadFilesContinue from Python.\n",
              "  outputElement.steps = steps;\n",
              "\n",
              "  return _uploadFilesContinue(outputId);\n",
              "}\n",
              "\n",
              "// This is roughly an async generator (not supported in the browser yet),\n",
              "// where there are multiple asynchronous steps and the Python side is going\n",
              "// to poll for completion of each step.\n",
              "// This uses a Promise to block the python side on completion of each step,\n",
              "// then passes the result of the previous step as the input to the next step.\n",
              "function _uploadFilesContinue(outputId) {\n",
              "  const outputElement = document.getElementById(outputId);\n",
              "  const steps = outputElement.steps;\n",
              "\n",
              "  const next = steps.next(outputElement.lastPromiseValue);\n",
              "  return Promise.resolve(next.value.promise).then((value) => {\n",
              "    // Cache the last promise value to make it available to the next\n",
              "    // step of the generator.\n",
              "    outputElement.lastPromiseValue = value;\n",
              "    return next.value.response;\n",
              "  });\n",
              "}\n",
              "\n",
              "/**\n",
              " * Generator function which is called between each async step of the upload\n",
              " * process.\n",
              " * @param {string} inputId Element ID of the input file picker element.\n",
              " * @param {string} outputId Element ID of the output display.\n",
              " * @return {!Iterable<!Object>} Iterable of next steps.\n",
              " */\n",
              "function* uploadFilesStep(inputId, outputId) {\n",
              "  const inputElement = document.getElementById(inputId);\n",
              "  inputElement.disabled = false;\n",
              "\n",
              "  const outputElement = document.getElementById(outputId);\n",
              "  outputElement.innerHTML = '';\n",
              "\n",
              "  const pickedPromise = new Promise((resolve) => {\n",
              "    inputElement.addEventListener('change', (e) => {\n",
              "      resolve(e.target.files);\n",
              "    });\n",
              "  });\n",
              "\n",
              "  const cancel = document.createElement('button');\n",
              "  inputElement.parentElement.appendChild(cancel);\n",
              "  cancel.textContent = 'Cancel upload';\n",
              "  const cancelPromise = new Promise((resolve) => {\n",
              "    cancel.onclick = () => {\n",
              "      resolve(null);\n",
              "    };\n",
              "  });\n",
              "\n",
              "  // Wait for the user to pick the files.\n",
              "  const files = yield {\n",
              "    promise: Promise.race([pickedPromise, cancelPromise]),\n",
              "    response: {\n",
              "      action: 'starting',\n",
              "    }\n",
              "  };\n",
              "\n",
              "  cancel.remove();\n",
              "\n",
              "  // Disable the input element since further picks are not allowed.\n",
              "  inputElement.disabled = true;\n",
              "\n",
              "  if (!files) {\n",
              "    return {\n",
              "      response: {\n",
              "        action: 'complete',\n",
              "      }\n",
              "    };\n",
              "  }\n",
              "\n",
              "  for (const file of files) {\n",
              "    const li = document.createElement('li');\n",
              "    li.append(span(file.name, {fontWeight: 'bold'}));\n",
              "    li.append(span(\n",
              "        `(${file.type || 'n/a'}) - ${file.size} bytes, ` +\n",
              "        `last modified: ${\n",
              "            file.lastModifiedDate ? file.lastModifiedDate.toLocaleDateString() :\n",
              "                                    'n/a'} - `));\n",
              "    const percent = span('0% done');\n",
              "    li.appendChild(percent);\n",
              "\n",
              "    outputElement.appendChild(li);\n",
              "\n",
              "    const fileDataPromise = new Promise((resolve) => {\n",
              "      const reader = new FileReader();\n",
              "      reader.onload = (e) => {\n",
              "        resolve(e.target.result);\n",
              "      };\n",
              "      reader.readAsArrayBuffer(file);\n",
              "    });\n",
              "    // Wait for the data to be ready.\n",
              "    let fileData = yield {\n",
              "      promise: fileDataPromise,\n",
              "      response: {\n",
              "        action: 'continue',\n",
              "      }\n",
              "    };\n",
              "\n",
              "    // Use a chunked sending to avoid message size limits. See b/62115660.\n",
              "    let position = 0;\n",
              "    do {\n",
              "      const length = Math.min(fileData.byteLength - position, MAX_PAYLOAD_SIZE);\n",
              "      const chunk = new Uint8Array(fileData, position, length);\n",
              "      position += length;\n",
              "\n",
              "      const base64 = btoa(String.fromCharCode.apply(null, chunk));\n",
              "      yield {\n",
              "        response: {\n",
              "          action: 'append',\n",
              "          file: file.name,\n",
              "          data: base64,\n",
              "        },\n",
              "      };\n",
              "\n",
              "      let percentDone = fileData.byteLength === 0 ?\n",
              "          100 :\n",
              "          Math.round((position / fileData.byteLength) * 100);\n",
              "      percent.textContent = `${percentDone}% done`;\n",
              "\n",
              "    } while (position < fileData.byteLength);\n",
              "  }\n",
              "\n",
              "  // All done.\n",
              "  yield {\n",
              "    response: {\n",
              "      action: 'complete',\n",
              "    }\n",
              "  };\n",
              "}\n",
              "\n",
              "scope.google = scope.google || {};\n",
              "scope.google.colab = scope.google.colab || {};\n",
              "scope.google.colab._files = {\n",
              "  _uploadFiles,\n",
              "  _uploadFilesContinue,\n",
              "};\n",
              "})(self);\n",
              "</script> "
            ]
          },
          "metadata": {}
        },
        {
          "output_type": "stream",
          "name": "stdout",
          "text": [
            "Saving photo-1557427161-4701a0fa2f42.jpg to photo-1557427161-4701a0fa2f42.jpg\n"
          ]
        }
      ]
    },
    {
      "cell_type": "code",
      "source": [
        "#Show the image\n",
        "new_image=plt.imread('photo-1557427161-4701a0fa2f42.jpg')"
      ],
      "metadata": {
        "id": "alIVZ5LF7tbL"
      },
      "execution_count": 28,
      "outputs": []
    },
    {
      "cell_type": "code",
      "source": [
        "#Resize the image\n",
        "from skimage.transform import resize\n",
        "resized_image=resize(new_image, (32,32,3))\n",
        "img=plt.imshow(resized_image)"
      ],
      "metadata": {
        "id": "GkZBH4D271O5",
        "colab": {
          "base_uri": "https://localhost:8080/",
          "height": 451
        },
        "outputId": "dc3f188b-cd9e-4363-cf2d-4b1a3968db08"
      },
      "execution_count": 29,
      "outputs": [
        {
          "output_type": "display_data",
          "data": {
            "text/plain": [
              "<Figure size 640x480 with 1 Axes>"
            ],
            "image/png": "[encoded data removed]"
          },
          "metadata": {}
        }
      ]
    },
    {
      "cell_type": "code",
      "source": [
        "#Get the models predictions\n",
        "predictions=model.predict(np.array([resized_image]))\n",
        "#Show the predictions\n",
        "predictions"
      ],
      "metadata": {
        "id": "hmGcdWQa79qx",
        "colab": {
          "base_uri": "https://localhost:8080/"
        },
        "outputId": "b2217fe2-0d09-4f62-94d5-b4c64651348a"
      },
      "execution_count": 30,
      "outputs": [
        {
          "output_type": "stream",
          "name": "stdout",
          "text": [
            "1/1 [==============================] - 0s 82ms/step\n"
          ]
        },
        {
          "output_type": "execute_result",
          "data": {
            "text/plain": [
              "array([[0.00433075, 0.00138936, 0.02360573, 0.686238  , 0.00470817,\n",
              "        0.21648392, 0.00593548, 0.02846389, 0.00695444, 0.02189035]],\n",
              "      dtype=float32)"
            ]
          },
          "metadata": {},
          "execution_count": 30
        }
      ]
    },
    {
      "cell_type": "code",
      "source": [
        "#Sort the predictions from least to greatest\n",
        "list_index=[0,1,2,3,4,5,6,7,8,9]\n",
        "x=predictions\n",
        "\n",
        "for i in range(10):\n",
        "  for j in range(10):\n",
        "    if x[0][list_index[i]]>x[0][list_index[j]]:\n",
        "      temp=list_index[i]\n",
        "      list_index[i]=list_index[j]\n",
        "      list_index[j]=temp\n",
        "\n",
        "\n",
        "#Show the sorted labels in order\n",
        "print(list_index)"
      ],
      "metadata": {
        "id": "hiQhJcxe8G_C",
        "colab": {
          "base_uri": "https://localhost:8080/"
        },
        "outputId": "aafbffcb-6a1a-4e40-c8b2-16140e384400"
      },
      "execution_count": 31,
      "outputs": [
        {
          "output_type": "stream",
          "name": "stdout",
          "text": [
            "[3, 5, 7, 2, 9, 8, 6, 4, 0, 1]\n"
          ]
        }
      ]
    },
    {
      "cell_type": "code",
      "source": [
        "#Print the first 5 predictions\n",
        "for i in range(5):\n",
        "  print(classification[list_index[i]])"
      ],
      "metadata": {
        "id": "ZcYcGgQh8b-u",
        "colab": {
          "base_uri": "https://localhost:8080/"
        },
        "outputId": "d444036b-57ba-4614-859e-8b087d3b3783"
      },
      "execution_count": 32,
      "outputs": [
        {
          "output_type": "stream",
          "name": "stdout",
          "text": [
            "cat\n",
            "dog\n",
            "horse\n",
            "bird\n",
            "truck\n"
          ]
        }
      ]
    }
  ]
}